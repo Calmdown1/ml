{
 "cells": [
  {
   "cell_type": "markdown",
   "id": "aae52f4e",
   "metadata": {},
   "source": [
    "# 앙상블  -  boosting/GBM\n",
    "\n",
    "GradientBoostingClassifier(*, loss='log_loss', learning_rate=0.1, n_estimators=100, subsample=1.0, criterion='friedman_mse', min_samples_split=2, min_samples_leaf=1, min_weight_fraction_leaf=0.0, max_depth=3, min_impurity_decrease=0.0, init=None, random_state=None, max_features=None, verbose=0, max_leaf_nodes=None, warm_start=False, validation_fraction=0.1, n_iter_no_change=None, tol=0.0001, ccp_alpha=0.0)\n",
    "\n",
    "- loss : 경사 하강법에서 사용할 비용 함수 지정\n",
    "- learning_rate : GBM의 학습 진행마다 적용하는 학습률(0에서 1)\n",
    "- n_estimators : 몇 개의 부스팅 스테이지에서 할 건지 디폴트는 100\n"
   ]
  },
  {
   "cell_type": "code",
   "execution_count": 14,
   "id": "fef0ce99",
   "metadata": {
    "ExecuteTime": {
     "end_time": "2022-07-05T01:45:28.384828Z",
     "start_time": "2022-07-05T01:45:28.197653Z"
    }
   },
   "outputs": [
    {
     "name": "stdout",
     "output_type": "stream",
     "text": [
      "GBM정확도 :0.9666666666666667\n"
     ]
    }
   ],
   "source": [
    "from sklearn.ensemble import GradientBoostingClassifier\n",
    "from sklearn.datasets import load_iris\n",
    "from sklearn.model_selection import train_test_split\n",
    "from sklearn.metrics import accuracy_score\n",
    "\n",
    "\n",
    "iris = load_iris()\n",
    "\n",
    "X_train, X_test, y_train, y_test = train_test_split(iris.data, iris.target,\n",
    "                                        test_size=0.2, random_state=12)\n",
    "\n",
    "gb_clf = GradientBoostingClassifier(random_state = 0)\n",
    "gb_clf.fit(X_train,y_train)\n",
    "gb_pred = gb_clf.predict(X_test)\n",
    "gb_accuracy = accuracy_score(y_test, gb_pred)\n",
    "\n",
    "#앞으로 요 양식을 사용하도록 합시다\n",
    "print(f'GBM정확도 :{gb_accuracy}')\n"
   ]
  },
  {
   "cell_type": "code",
   "execution_count": 15,
   "id": "52614cb6",
   "metadata": {
    "ExecuteTime": {
     "end_time": "2022-07-05T01:50:53.174931Z",
     "start_time": "2022-07-05T01:50:50.741319Z"
    }
   },
   "outputs": [
    {
     "name": "stdout",
     "output_type": "stream",
     "text": [
      "Fitting 2 folds for each of 4 candidates, totalling 8 fits\n",
      "최적 하이퍼 파라미터:\n",
      " {'learning_rate': 0.05, 'n_estimators': 100}\n",
      "최고 예측 정확도 :0.925\n"
     ]
    }
   ],
   "source": [
    "from sklearn.model_selection import GridSearchCV\n",
    "\n",
    "params={\n",
    "    'n_estimators':[100,500],\n",
    "    'learning_rate' :[0.05,0.1]\n",
    "}\n",
    "\n",
    "grid_cv = GridSearchCV(gb_clf, param_grid=params, cv=2, verbose=1)\n",
    "grid_cv.fit(X_train, y_train)\n",
    "print('최적 하이퍼 파라미터:\\n', grid_cv.best_params_)\n",
    "print(f'최고 예측 정확도 :{grid_cv.best_score_}')"
   ]
  },
  {
   "cell_type": "code",
   "execution_count": 16,
   "id": "c2e943cb",
   "metadata": {
    "ExecuteTime": {
     "end_time": "2022-07-05T01:52:21.491982Z",
     "start_time": "2022-07-05T01:52:21.481523Z"
    }
   },
   "outputs": [
    {
     "name": "stdout",
     "output_type": "stream",
     "text": [
      "GBM 정확도 : 0.9666666666666667\n"
     ]
    }
   ],
   "source": [
    "#GridSearchCV를 이용하여 최적으로 학습된 estimator로 preidct 수행\n",
    "gb_pred = grid_cv.best_estimator_.predict(X_test)\n",
    "gb_accuracy = accuracy_score(y_test, gb_pred)\n",
    "print(f'GBM 정확도 : {gb_accuracy}')\n",
    "\n",
    "#10ms 정도로 시간 축소 확인 가능"
   ]
  },
  {
   "cell_type": "markdown",
   "id": "5a457a88",
   "metadata": {},
   "source": [
    "   ## XGBoost \n",
    "   - GBM 대비 빠른 수행시간을 가지는 Extreme Gradient Boosting"
   ]
  },
  {
   "cell_type": "code",
   "execution_count": 37,
   "id": "4e78e908",
   "metadata": {
    "ExecuteTime": {
     "end_time": "2022-07-05T02:36:07.329028Z",
     "start_time": "2022-07-05T02:36:07.236770Z"
    },
    "scrolled": true
   },
   "outputs": [
    {
     "name": "stdout",
     "output_type": "stream",
     "text": [
      "GBM정확도 :0.9666666666666667\n"
     ]
    },
    {
     "data": {
      "text/plain": [
       "1.0"
      ]
     },
     "execution_count": 37,
     "metadata": {},
     "output_type": "execute_result"
    }
   ],
   "source": [
    "import xgboost as xgb\n",
    "from xgboost import XGBClassifier\n",
    "from sklearn.datasets import load_iris\n",
    "from sklearn.model_selection import train_test_split\n",
    "from sklearn.metrics import accuracy_score\n",
    "\n",
    "\n",
    "iris = load_iris()\n",
    "\n",
    "X_train, X_test, y_train, y_test = train_test_split(iris.data, iris.target,\n",
    "                                        test_size=0.2, random_state=12)\n",
    "\n",
    "xgb = xgb.XGBClassifier()\n",
    "xgb.fit(X_train,y_train)\n",
    "xgb_pred = gb_clf.predict(X_test)\n",
    "xgb_accuracy = accuracy_score(y_test, xgb_pred)\n",
    "\n",
    "#앞으로 요 양식을 사용하도록 합시다\n",
    "print(f'GBM정확도 :{xgb_accuracy}')\n",
    "xgb.score(X_train,y_train)\n"
   ]
  },
  {
   "cell_type": "code",
   "execution_count": null,
   "id": "2417b338",
   "metadata": {},
   "outputs": [],
   "source": []
  }
 ],
 "metadata": {
  "kernelspec": {
   "display_name": "Python 3 (ipykernel)",
   "language": "python",
   "name": "python3"
  },
  "language_info": {
   "codemirror_mode": {
    "name": "ipython",
    "version": 3
   },
   "file_extension": ".py",
   "mimetype": "text/x-python",
   "name": "python",
   "nbconvert_exporter": "python",
   "pygments_lexer": "ipython3",
   "version": "3.9.12"
  },
  "toc": {
   "base_numbering": 1,
   "nav_menu": {},
   "number_sections": true,
   "sideBar": true,
   "skip_h1_title": false,
   "title_cell": "Table of Contents",
   "title_sidebar": "Contents",
   "toc_cell": false,
   "toc_position": {},
   "toc_section_display": true,
   "toc_window_display": false
  }
 },
 "nbformat": 4,
 "nbformat_minor": 5
}
