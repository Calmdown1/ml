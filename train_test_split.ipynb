{
 "cells": [
  {
   "cell_type": "code",
   "execution_count": 7,
   "id": "001a9144",
   "metadata": {
    "ExecuteTime": {
     "end_time": "2022-06-30T00:27:30.088845Z",
     "start_time": "2022-06-30T00:27:30.080836Z"
    }
   },
   "outputs": [],
   "source": [
    "from sklearn.datasets import  load_iris\n",
    "from IPython.display import clear_output\n",
    "\n",
    "iris_data = load_iris()"
   ]
  },
  {
   "cell_type": "code",
   "execution_count": 4,
   "id": "f2ca9cb2",
   "metadata": {
    "ExecuteTime": {
     "end_time": "2022-06-30T00:22:56.146745Z",
     "start_time": "2022-06-30T00:22:56.129985Z"
    }
   },
   "outputs": [
    {
     "data": {
      "text/plain": [
       "dict_keys(['data', 'target', 'frame', 'target_names', 'DESCR', 'feature_names', 'filename', 'data_module'])"
      ]
     },
     "execution_count": 4,
     "metadata": {},
     "output_type": "execute_result"
    }
   ],
   "source": [
    "import pandas as pd\n",
    "\n",
    "iris_data.keys()"
   ]
  },
  {
   "cell_type": "code",
   "execution_count": 8,
   "id": "dc924cc5",
   "metadata": {
    "ExecuteTime": {
     "end_time": "2022-06-30T00:27:35.347725Z",
     "start_time": "2022-06-30T00:27:35.334572Z"
    }
   },
   "outputs": [
    {
     "data": {
      "text/plain": [
       "<function IPython.core.display_functions.clear_output(wait=False)>"
      ]
     },
     "execution_count": 8,
     "metadata": {},
     "output_type": "execute_result"
    }
   ],
   "source": [
    "#학습데이터 출력해보기\n",
    "iris_data\n",
    "clear_output"
   ]
  },
  {
   "cell_type": "code",
   "execution_count": 12,
   "id": "f5cb2752",
   "metadata": {
    "ExecuteTime": {
     "end_time": "2022-06-30T00:32:24.356439Z",
     "start_time": "2022-06-30T00:32:24.337675Z"
    }
   },
   "outputs": [
    {
     "data": {
      "text/plain": [
       "150"
      ]
     },
     "execution_count": 12,
     "metadata": {},
     "output_type": "execute_result"
    }
   ],
   "source": [
    "x_train = iris_data.data[0:120] #총 데이터의 90%(4/5)를 학습데이터 인스턴스에 할당\n",
    "x_test = iris_data.data[120:] #나머지를 테스트데이터 인스턴스에 할당\n",
    "len(iris_data.data) #총 150개가 나왔으므로 5로 나눠 할당"
   ]
  },
  {
   "cell_type": "code",
   "execution_count": 13,
   "id": "f528c0cb",
   "metadata": {
    "ExecuteTime": {
     "end_time": "2022-06-30T00:33:00.531973Z",
     "start_time": "2022-06-30T00:33:00.517176Z"
    }
   },
   "outputs": [],
   "source": [
    "y_train = iris_data.target[0:120] #총 레이블 데이터의 4/5를 학습데이터 인스턴스에 할당\n",
    "y_test = iris_data.target[120:]"
   ]
  },
  {
   "cell_type": "code",
   "execution_count": 14,
   "id": "65248847",
   "metadata": {
    "ExecuteTime": {
     "end_time": "2022-06-30T00:33:12.780050Z",
     "start_time": "2022-06-30T00:33:12.763481Z"
    }
   },
   "outputs": [
    {
     "data": {
      "text/plain": [
       "array([0, 0, 0, 0, 0, 0, 0, 0, 0, 0, 0, 0, 0, 0, 0, 0, 0, 0, 0, 0, 0, 0,\n",
       "       0, 0, 0, 0, 0, 0, 0, 0, 0, 0, 0, 0, 0, 0, 0, 0, 0, 0, 0, 0, 0, 0,\n",
       "       0, 0, 0, 0, 0, 0, 1, 1, 1, 1, 1, 1, 1, 1, 1, 1, 1, 1, 1, 1, 1, 1,\n",
       "       1, 1, 1, 1, 1, 1, 1, 1, 1, 1, 1, 1, 1, 1, 1, 1, 1, 1, 1, 1, 1, 1,\n",
       "       1, 1, 1, 1, 1, 1, 1, 1, 1, 1, 1, 1, 2, 2, 2, 2, 2, 2, 2, 2, 2, 2,\n",
       "       2, 2, 2, 2, 2, 2, 2, 2, 2, 2])"
      ]
     },
     "execution_count": 14,
     "metadata": {},
     "output_type": "execute_result"
    }
   ],
   "source": [
    "y_train"
   ]
  },
  {
   "cell_type": "code",
   "execution_count": 15,
   "id": "9857b475",
   "metadata": {
    "ExecuteTime": {
     "end_time": "2022-06-30T00:33:15.623087Z",
     "start_time": "2022-06-30T00:33:15.608389Z"
    }
   },
   "outputs": [
    {
     "data": {
      "text/plain": [
       "array([2, 2, 2, 2, 2, 2, 2, 2, 2, 2, 2, 2, 2, 2, 2, 2, 2, 2, 2, 2, 2, 2,\n",
       "       2, 2, 2, 2, 2, 2, 2, 2])"
      ]
     },
     "execution_count": 15,
     "metadata": {},
     "output_type": "execute_result"
    }
   ],
   "source": [
    "y_test #데이터의 불균형이 왔다는 것을 확인 0,1,2가 균등하게 배분되지 않았음"
   ]
  },
  {
   "cell_type": "code",
   "execution_count": 18,
   "id": "2eb09b6e",
   "metadata": {
    "ExecuteTime": {
     "end_time": "2022-06-30T00:36:41.934050Z",
     "start_time": "2022-06-30T00:36:41.756816Z"
    }
   },
   "outputs": [
    {
     "data": {
      "image/png": "[encoded data removed]",
      "text/plain": [
       "<Figure size 432x288 with 1 Axes>"
      ]
     },
     "metadata": {
      "needs_background": "light"
     },
     "output_type": "display_data"
    }
   ],
   "source": [
    "import matplotlib.pyplot as plt\n",
    "\n",
    "plt.plot(y_train)\n",
    "plt.show() #0과 1이 많고 2의 분포가 적다는 것을알 수 있음"
   ]
  },
  {
   "cell_type": "markdown",
   "id": "6ca5d52f",
   "metadata": {},
   "source": [
    "### train_test_split 함수 사용하기\n",
    "#### from sklearn.model_selection import train_test_split -> 임포트하는 법\n",
    "참고 : 매개변수 - Parameter , 인자값 - Argument\n",
    "test_size : 전체 데이터에서 데이터 세트 크기를 얼마로 샘플링할건가(디폴트는 0.25)\n",
    "train_size : 테스트사이즈 파라미터를 주로 활용하기 때문에, trian_size는 잘 사용하지 않음\n",
    "shuffle : 데이터 분리 전 데이터를 미리 섞을지 결정. 디폴트는 True(섞음) 데이터 분산을 통해 효율적 데이터 세트 생성 가능\n",
    "random_state : 호출할 때마다 동일 학습/테스트용 데이터 세트를 생성하기 위해 주어지는 난수 값 (고유 값 설정)\n",
    "train_test_split()은 호출시 무작위 데이터 분리이기 때문에 random_state 미지정시 수행할때마다 다른 학습/테스트 데이터 생성\n",
    "\n",
    "리스트로 리턴하며 학습데이터 - > 테스트데이터 순으로 할당\n"
   ]
  },
  {
   "cell_type": "code",
   "execution_count": 30,
   "id": "bd97bbc4",
   "metadata": {
    "ExecuteTime": {
     "end_time": "2022-06-30T01:22:05.248112Z",
     "start_time": "2022-06-30T01:22:05.239649Z"
    }
   },
   "outputs": [],
   "source": [
    "from sklearn.model_selection import train_test_split\n",
    "# 기본 데이터가 리스트 형태에, 인덱스 내 4개의 값이 있기 때문에 할당도 4개로\n",
    "X_train,X_test,y_train,y_test = train_test_split(iris_data.data, iris_data.target, \n",
    "                                                test_size = 0.3, random_state = 121)"
   ]
  },
  {
   "cell_type": "markdown",
   "id": "19fb1266",
   "metadata": {},
   "source": [
    "## DecisionTreeClassifier에 대해\n",
    "### 머신러닝을 위해 DecisionTree를 활용한다\n",
    "#DecisionTreeClassifier(*, criterion='gini', splitter='best', max_depth=None, min_samples_split=2, min_samples_leaf=1, min_weight_fraction_leaf=0.0, max_features=None, random_state=None, max_leaf_nodes=None, min_impurity_decrease=0.0, class_weight=None, ccp_alpha=0.0)\n",
    "\n",
    "여기에서는 붓꽃 데이터 셋(iris data)을 이용하며, 이 붓꽃은 크게 3개의 유형으로 나뉨\n",
    "따라서 적절한 러닝학습법은 분류(Classification) 시키는 것 -> DecisionTreeClassifier \n",
    "(만약 회귀라면 Regrssion이라는 클래스를 사용)\n",
    "그리고 어떠 알고리즘을 적용시킬 것인가 관건\n",
    "\n",
    "함수의 ()내 매개변수는 max_depth와 같은 키워드 파라미터가 있는데\n",
    "알고리즘에서는 이를 'Hyper Parameter'라 부르며 이 하이퍼 파라미터를 조정하여 결과를 추적\n",
    "\n",
    "#### 따라서 모델의 예측력을 향상은 1)Feature와 Label의 조정과 2)하이퍼 파라미터의 조정을 통해 이루어짐!\n"
   ]
  },
  {
   "cell_type": "markdown",
   "id": "02f9e39e",
   "metadata": {},
   "source": [
    "## sklearn.metrics.accuracy_score\n",
    "accuracy_score(y_true, y_pred, *, normalize=True, sample_weight=None)\n",
    "true -> 레이블 데이터, pred -> 예측값(테스트 데이터 기반)\n"
   ]
  },
  {
   "cell_type": "code",
   "execution_count": 42,
   "id": "0fd909f8",
   "metadata": {
    "ExecuteTime": {
     "end_time": "2022-06-30T01:38:59.107124Z",
     "start_time": "2022-06-30T01:38:59.085057Z"
    }
   },
   "outputs": [
    {
     "name": "stdout",
     "output_type": "stream",
     "text": [
      "예측 정확도:  0.96\n"
     ]
    }
   ],
   "source": [
    "from sklearn.tree import DecisionTreeClassifier\n",
    "from sklearn.metrics import accuracy_score\n",
    "# 원본데이터로 학습 시킨 후 원본과 비교\n",
    "iris = load_iris()\n",
    "dt_clf = DecisionTreeClassifier(max_depth=2)\n",
    "train_data = iris.data\n",
    "train_label = iris.target\n",
    "dt_clf.fit(train_data, train_label)\n",
    "\n",
    "pred = dt_clf.predict(train_data)\n",
    "print('예측 정확도: ', accuracy_score(train_label, pred))"
   ]
  },
  {
   "cell_type": "code",
   "execution_count": 57,
   "id": "d349e918",
   "metadata": {
    "ExecuteTime": {
     "end_time": "2022-06-30T01:43:05.368077Z",
     "start_time": "2022-06-30T01:43:05.353229Z"
    }
   },
   "outputs": [],
   "source": [
    "dt_clf = DecisionTreeClassifier(max_depth=2, random_state=121)\n",
    "iris_data = load_iris()\n",
    "\n",
    "X_train,X_test,y_train,y_test = train_test_split(iris_data.data, iris_data.target, \n",
    "                                                test_size = 0.3, random_state = 121)"
   ]
  },
  {
   "cell_type": "code",
   "execution_count": 58,
   "id": "6b812ded",
   "metadata": {
    "ExecuteTime": {
     "end_time": "2022-06-30T01:43:05.979650Z",
     "start_time": "2022-06-30T01:43:05.962166Z"
    }
   },
   "outputs": [
    {
     "name": "stdout",
     "output_type": "stream",
     "text": [
      "예측정확도 :0.9333333333333333\n"
     ]
    }
   ],
   "source": [
    "dt_clf.fit(X_train, y_train) #학습 시작\n",
    "pred =dt_clf.predict(X_test)  #테스트 데이터를 파라미터로 새로운 예측 시작\n",
    "print(f'예측정확도 :{accuracy_score(y_test,pred)}') #예측한 값과, 테스트 레이블과 비교"
   ]
  },
  {
   "cell_type": "markdown",
   "id": "06780477",
   "metadata": {},
   "source": [
    "## Overfitting과 Underfitting\n",
    "1. 과한 학습을 시켜 train 데이터와 거의 동일하게 학습을 시킨 경우, 해당 데이터를 넘는 test data가 속성으로 들어왔을 때 예측 정확도가 오히려 떨어질 수 있음 이를 Overfitting(과적합)이라고 한다\n",
    "\n",
    "2. 반대로 학습을 너무 적게하는 것 또한 예측력이 떨어져 Underfitting이 일어날 수 있다\n",
    "\n",
    "데이터(피처)의 양을 조절, 학습의 양을 조절, 알고리즘의 하이퍼파라미터 조정 등이 있음\n",
    "\n",
    "\n",
    "### 중첩(fold) - 테스트 데이터에 가기 전 과적합을 피하는 방법\n",
    "이 중 train data의 학습과 더불어서 Validation(검증) \n",
    "즉, 훈련에 대한 검증을 통해 과적합을 방지할 수 있다\n",
    "\n",
    "검증을 위한 검증 데이터 셋은 '중첩'하여 만든다\n",
    "1) 학습데이터를 k개의 조각으로 나눔\n",
    "2) k개로 조각된 train data의 1개를 검증데이터로 사용, 나머지 (K-1) 개를 학습데이터로 사용\n",
    "3) 따라서 각각의 조각들을 한번씩 검증데이터로 사용하여 교차검증을 진행하는 것\n",
    "4) 이 k개의 조각을 fold라 하며 k차 검증 즉, K fold(중첩)을 통해 훈련과정에서 과적합을 피할 수 있음\n",
    "5) '검증'은 테스트 단계가 아닌 train 단계에서 일어나는 것\n",
    "6) --> K fold cross validation"
   ]
  },
  {
   "cell_type": "code",
   "execution_count": null,
   "id": "a758ae40",
   "metadata": {},
   "outputs": [],
   "source": []
  }
 ],
 "metadata": {
  "kernelspec": {
   "display_name": "Python 3 (ipykernel)",
   "language": "python",
   "name": "python3"
  },
  "language_info": {
   "codemirror_mode": {
    "name": "ipython",
    "version": 3
   },
   "file_extension": ".py",
   "mimetype": "text/x-python",
   "name": "python",
   "nbconvert_exporter": "python",
   "pygments_lexer": "ipython3",
   "version": "3.9.12"
  },
  "toc": {
   "base_numbering": 1,
   "nav_menu": {},
   "number_sections": true,
   "sideBar": true,
   "skip_h1_title": false,
   "title_cell": "Table of Contents",
   "title_sidebar": "Contents",
   "toc_cell": false,
   "toc_position": {},
   "toc_section_display": true,
   "toc_window_display": false
  }
 },
 "nbformat": 4,
 "nbformat_minor": 5
}
